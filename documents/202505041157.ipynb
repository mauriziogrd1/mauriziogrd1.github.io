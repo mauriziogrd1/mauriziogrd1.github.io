{
  "cells": [
    {
      "cell_type": "markdown",
      "id": "03dcbb22",
      "metadata": {
        "id": "03dcbb22"
      },
      "source": [
        "# Stacking\n",
        "\n",
        "Maurizio Gardini\n",
        "\n",
        "04 maggio 2025\n",
        "\n",
        "\\\n",
        "Somma delle matrici $(A + B)_{i, j} = A_{i, j} + B_{i, j}$"
      ]
    },
    {
      "cell_type": "code",
      "execution_count": null,
      "id": "6fd9609c",
      "metadata": {
        "id": "6fd9609c"
      },
      "outputs": [],
      "source": [
        "import os\n",
        "\n",
        "folder_path = 'cartella/file_tif'\n",
        "z = None\n",
        "\n",
        "for x in os.listdir(folder_path):\n",
        "    y = imread(os.path.join(folder_path, x)).astype(np.float64)\n",
        "    if z is None:\n",
        "        z = y\n",
        "    z = z + y"
      ]
    },
    {
      "cell_type": "markdown",
      "source": [
        "Email address: <mauriziogrd1@gmail.com>\n",
        "\n",
        "Orcid address: <https://orcid.org/0009-0001-5845-5572>\n",
        "\n",
        "Repository address: <https://github.com/mauriziogrd1/philosophiae-naturalis-principia-mathematica/blob/main/202505041157.ipynb>"
      ],
      "metadata": {
        "id": "avfjJUo3vthS"
      },
      "id": "avfjJUo3vthS"
    }
  ],
  "metadata": {
    "kernelspec": {
      "display_name": "Python 3 (ipykernel)",
      "language": "python",
      "name": "python3"
    },
    "language_info": {
      "codemirror_mode": {
        "name": "ipython",
        "version": 3
      },
      "file_extension": ".py",
      "mimetype": "text/x-python",
      "name": "python",
      "nbconvert_exporter": "python",
      "pygments_lexer": "ipython3",
      "version": "3.11.2"
    },
    "colab": {
      "provenance": []
    }
  },
  "nbformat": 4,
  "nbformat_minor": 5
}